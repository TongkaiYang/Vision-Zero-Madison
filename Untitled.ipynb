{
 "cells": [
  {
   "cell_type": "markdown",
   "metadata": {},
   "source": [
    "# Crash data "
   ]
  },
  {
   "cell_type": "code",
   "execution_count": 25,
   "metadata": {},
   "outputs": [],
   "source": [
    "# import library\n",
    "import pandas as pd\n",
    "import numpy as np\n",
    "import matplotlib.pyplot as plt\n",
    "import datetime\n",
    "from matplotlib.dates import date2num\n",
    "import seaborn as sns"
   ]
  },
  {
   "cell_type": "code",
   "execution_count": 73,
   "metadata": {},
   "outputs": [],
   "source": [
    "# read data\n",
    "file = \"//Users/ark.kuo/Project/DS/V0/crash.xlsx\"\n",
    "dfs = pd.read_excel('Madison 2015 - 2018.xlsx')"
   ]
  },
  {
   "cell_type": "code",
   "execution_count": 79,
   "metadata": {},
   "outputs": [
    {
     "name": "stdout",
     "output_type": "stream",
     "text": [
      "(21403, 66)\n"
     ]
    },
    {
     "data": {
      "text/html": [
       "<div>\n",
       "<style scoped>\n",
       "    .dataframe tbody tr th:only-of-type {\n",
       "        vertical-align: middle;\n",
       "    }\n",
       "\n",
       "    .dataframe tbody tr th {\n",
       "        vertical-align: top;\n",
       "    }\n",
       "\n",
       "    .dataframe thead th {\n",
       "        text-align: right;\n",
       "    }\n",
       "</style>\n",
       "<table border=\"1\" class=\"dataframe\">\n",
       "  <thead>\n",
       "    <tr style=\"text-align: right;\">\n",
       "      <th></th>\n",
       "      <th>DOCTNMBR</th>\n",
       "      <th>ACCDDATE</th>\n",
       "      <th>NTFYHOUR</th>\n",
       "      <th>REGION</th>\n",
       "      <th>COUNTY</th>\n",
       "      <th>MUNICIPALITY</th>\n",
       "      <th>MUNITYPE</th>\n",
       "      <th>ONHWYRP</th>\n",
       "      <th>ONHWYDIR</th>\n",
       "      <th>ONHWY</th>\n",
       "      <th>...</th>\n",
       "      <th>POSTSPD2</th>\n",
       "      <th>AGE2</th>\n",
       "      <th>SEX2</th>\n",
       "      <th>INJSVR2</th>\n",
       "      <th>SAFETY2</th>\n",
       "      <th>DRVRPC2</th>\n",
       "      <th>STNM21</th>\n",
       "      <th>STNM22</th>\n",
       "      <th>WISLR_LATDECDG</th>\n",
       "      <th>WISLR_LONDECDG</th>\n",
       "    </tr>\n",
       "  </thead>\n",
       "  <tbody>\n",
       "    <tr>\n",
       "      <td>0</td>\n",
       "      <td>01L0W78HMR</td>\n",
       "      <td>06/07/2018</td>\n",
       "      <td>0</td>\n",
       "      <td>SW</td>\n",
       "      <td>DANE</td>\n",
       "      <td>MADISON</td>\n",
       "      <td>C</td>\n",
       "      <td>12.0</td>\n",
       "      <td>E</td>\n",
       "      <td>12</td>\n",
       "      <td>...</td>\n",
       "      <td>NaN</td>\n",
       "      <td>NaN</td>\n",
       "      <td>NaN</td>\n",
       "      <td>NaN</td>\n",
       "      <td>NaN</td>\n",
       "      <td>NaN</td>\n",
       "      <td>NaN</td>\n",
       "      <td>NaN</td>\n",
       "      <td>NaN</td>\n",
       "      <td>NaN</td>\n",
       "    </tr>\n",
       "    <tr>\n",
       "      <td>1</td>\n",
       "      <td>01L0DPGFBH</td>\n",
       "      <td>10/16/2017</td>\n",
       "      <td>9</td>\n",
       "      <td>SW</td>\n",
       "      <td>DANE</td>\n",
       "      <td>MADISON</td>\n",
       "      <td>C</td>\n",
       "      <td>12.0</td>\n",
       "      <td>E</td>\n",
       "      <td>12</td>\n",
       "      <td>...</td>\n",
       "      <td>55.0</td>\n",
       "      <td>23.0</td>\n",
       "      <td>F</td>\n",
       "      <td>C</td>\n",
       "      <td>SH/LP</td>\n",
       "      <td>OTHR</td>\n",
       "      <td>346.89(1)</td>\n",
       "      <td>NaN</td>\n",
       "      <td>43.085367</td>\n",
       "      <td>-89.521539</td>\n",
       "    </tr>\n",
       "    <tr>\n",
       "      <td>2</td>\n",
       "      <td>01L0CMCGHH</td>\n",
       "      <td>12/18/2017</td>\n",
       "      <td>16</td>\n",
       "      <td>SW</td>\n",
       "      <td>DANE</td>\n",
       "      <td>MADISON</td>\n",
       "      <td>C</td>\n",
       "      <td>12.0</td>\n",
       "      <td>E</td>\n",
       "      <td>12</td>\n",
       "      <td>...</td>\n",
       "      <td>55.0</td>\n",
       "      <td>28.0</td>\n",
       "      <td>M</td>\n",
       "      <td></td>\n",
       "      <td>SH/LP</td>\n",
       "      <td>NaN</td>\n",
       "      <td>NaN</td>\n",
       "      <td>NaN</td>\n",
       "      <td>43.087071</td>\n",
       "      <td>-89.521578</td>\n",
       "    </tr>\n",
       "    <tr>\n",
       "      <td>3</td>\n",
       "      <td>9B8HL8H</td>\n",
       "      <td>11/25/2016</td>\n",
       "      <td>18</td>\n",
       "      <td>SW</td>\n",
       "      <td>DANE</td>\n",
       "      <td>MADISON</td>\n",
       "      <td>C</td>\n",
       "      <td>12.0</td>\n",
       "      <td>E</td>\n",
       "      <td>12</td>\n",
       "      <td>...</td>\n",
       "      <td>NaN</td>\n",
       "      <td>NaN</td>\n",
       "      <td>NaN</td>\n",
       "      <td>NaN</td>\n",
       "      <td>NaN</td>\n",
       "      <td>NaN</td>\n",
       "      <td>NaN</td>\n",
       "      <td>NaN</td>\n",
       "      <td>43.081270</td>\n",
       "      <td>-89.521622</td>\n",
       "    </tr>\n",
       "    <tr>\n",
       "      <td>4</td>\n",
       "      <td>9B5LX6J</td>\n",
       "      <td>05/11/2016</td>\n",
       "      <td>22</td>\n",
       "      <td>SW</td>\n",
       "      <td>DANE</td>\n",
       "      <td>MADISON</td>\n",
       "      <td>C</td>\n",
       "      <td>12.0</td>\n",
       "      <td>E</td>\n",
       "      <td>12</td>\n",
       "      <td>...</td>\n",
       "      <td>NaN</td>\n",
       "      <td>NaN</td>\n",
       "      <td>NaN</td>\n",
       "      <td>NaN</td>\n",
       "      <td>NaN</td>\n",
       "      <td>NaN</td>\n",
       "      <td>NaN</td>\n",
       "      <td>NaN</td>\n",
       "      <td>43.075696</td>\n",
       "      <td>-89.522616</td>\n",
       "    </tr>\n",
       "  </tbody>\n",
       "</table>\n",
       "<p>5 rows × 66 columns</p>\n",
       "</div>"
      ],
      "text/plain": [
       "     DOCTNMBR    ACCDDATE  NTFYHOUR REGION COUNTY MUNICIPALITY MUNITYPE  \\\n",
       "0  01L0W78HMR  06/07/2018         0     SW   DANE      MADISON        C   \n",
       "1  01L0DPGFBH  10/16/2017         9     SW   DANE      MADISON        C   \n",
       "2  01L0CMCGHH  12/18/2017        16     SW   DANE      MADISON        C   \n",
       "3     9B8HL8H  11/25/2016        18     SW   DANE      MADISON        C   \n",
       "4     9B5LX6J  05/11/2016        22     SW   DANE      MADISON        C   \n",
       "\n",
       "   ONHWYRP ONHWYDIR ONHWY  ... POSTSPD2  AGE2 SEX2 INJSVR2 SAFETY2  DRVRPC2  \\\n",
       "0     12.0        E    12  ...      NaN   NaN  NaN     NaN     NaN      NaN   \n",
       "1     12.0        E    12  ...     55.0  23.0    F       C   SH/LP     OTHR   \n",
       "2     12.0        E    12  ...     55.0  28.0    M           SH/LP      NaN   \n",
       "3     12.0        E    12  ...      NaN   NaN  NaN     NaN     NaN      NaN   \n",
       "4     12.0        E    12  ...      NaN   NaN  NaN     NaN     NaN      NaN   \n",
       "\n",
       "      STNM21 STNM22 WISLR_LATDECDG WISLR_LONDECDG  \n",
       "0        NaN    NaN            NaN            NaN  \n",
       "1  346.89(1)    NaN      43.085367     -89.521539  \n",
       "2        NaN    NaN      43.087071     -89.521578  \n",
       "3        NaN    NaN      43.081270     -89.521622  \n",
       "4        NaN    NaN      43.075696     -89.522616  \n",
       "\n",
       "[5 rows x 66 columns]"
      ]
     },
     "execution_count": 79,
     "metadata": {},
     "output_type": "execute_result"
    }
   ],
   "source": [
    "# data summary\n",
    "print(dfs.shape)\n",
    "dfs.head()"
   ]
  },
  {
   "cell_type": "code",
   "execution_count": 6,
   "metadata": {},
   "outputs": [
    {
     "data": {
      "text/plain": [
       "0        06/07/2018\n",
       "1        10/16/2017\n",
       "2        12/18/2017\n",
       "3        11/25/2016\n",
       "4        05/11/2016\n",
       "            ...    \n",
       "21398    12/13/2016\n",
       "21399    12/11/2015\n",
       "21400    12/29/2017\n",
       "21401    06/15/2016\n",
       "21402    08/10/2016\n",
       "Name: ACCDDATE, Length: 21403, dtype: object"
      ]
     },
     "execution_count": 6,
     "metadata": {},
     "output_type": "execute_result"
    }
   ],
   "source": [
    "#get accident date \n",
    "dfs[\"ACCDDATE\"]"
   ]
  },
  {
   "cell_type": "code",
   "execution_count": 67,
   "metadata": {},
   "outputs": [
    {
     "name": "stderr",
     "output_type": "stream",
     "text": [
      "/Library/Python/3.7/site-packages/pandas/plotting/_matplotlib/converter.py:103: FutureWarning: Using an implicitly registered datetime converter for a matplotlib plotting method. The converter was registered by pandas on import. Future versions of pandas will require you to explicitly register matplotlib converters.\n",
      "\n",
      "To register the converters:\n",
      "\t>>> from pandas.plotting import register_matplotlib_converters\n",
      "\t>>> register_matplotlib_converters()\n",
      "  warnings.warn(msg, FutureWarning)\n"
     ]
    },
    {
     "data": {
      "image/png": "[encoded data removed]",
      "text/plain": [
       "<Figure size 432x288 with 1 Axes>"
      ]
     },
     "metadata": {
      "needs_background": "light"
     },
     "output_type": "display_data"
    },
    {
     "data": {
      "image/png": "[encoded data removed]",
      "text/plain": [
       "<Figure size 432x288 with 1 Axes>"
      ]
     },
     "metadata": {
      "needs_background": "light"
     },
     "output_type": "display_data"
    },
    {
     "data": {
      "image/png": "[encoded data removed]",
      "text/plain": [
       "<Figure size 432x288 with 1 Axes>"
      ]
     },
     "metadata": {
      "needs_background": "light"
     },
     "output_type": "display_data"
    }
   ],
   "source": [
    "# date formatting\n",
    "start = datetime.date(2015,1,1) \n",
    "end = datetime.date(2018,12,31)\n",
    "dayZip = 120\n",
    "monthBin = datetime.timedelta(days = 30)  \n",
    "seasonBin = datetime.timedelta(days = 121) \n",
    "yearBin = datetime.timedelta(days = 365)  \n",
    "months = []\n",
    "seasons = []\n",
    "years = []\n",
    "for i in range(((end-start).days)//30+1):  \n",
    "    months.append(start + (i)*monthBin)\n",
    "\n",
    "for i in range(((end-start).days)//121+1):  \n",
    "    seasons.append(start + (i)*seasonBin)\n",
    "\n",
    "for i in range(((end-start).days)//365+1):  \n",
    "    years.append(start + (i)*yearBin)\n",
    "\n",
    "numMonth= date2num(months)\n",
    "numSeason= date2num(seasons)\n",
    "numYear = date2num(years)\n",
    "\n",
    "# monthly plot\n",
    "# prepare data\n",
    "m = s = y = plt\n",
    "sort_date = sorted(pd.to_datetime(dfs[\"ACCDDATE\"]))\n",
    "m.hist(x = sort_date, color = 'blue', edgecolor = 'black', bins = numMonth)\n",
    "# Add labels\n",
    "plt.title('Histogram of Monthly Accident Count')\n",
    "plt.xlabel('Time')\n",
    "plt.ylabel('Count')\n",
    "m.show()\n",
    "\n",
    "\n",
    "# seasonly plot\n",
    "# prepare data\n",
    "s.hist(x = sort_date, color = 'black', edgecolor = 'white', bins = numSeason)\n",
    "# Add labels\n",
    "plt.title('Histogram of Seasonly Accident Count')\n",
    "plt.xlabel('Time')\n",
    "plt.ylabel('Count') \n",
    "s.show()\n",
    "\n",
    "# yearly plot\n",
    "# prepare data\n",
    "y.hist(x = sort_date, color = 'gold', edgecolor = 'black', bins = numYear)\n",
    "# Add labels\n",
    "plt.title('Histogram of Yearly Accident Count')\n",
    "plt.xlabel('Time')\n",
    "plt.ylabel('Count') \n",
    "y.show()\n"
   ]
  },
  {
   "cell_type": "code",
   "execution_count": 117,
   "metadata": {},
   "outputs": [
    {
     "name": "stdout",
     "output_type": "stream",
     "text": [
      "PK VEH    994\n",
      "TREE      338\n",
      "TFSIGN    309\n",
      "PED       231\n",
      "CURB      218\n",
      "TF SIG    209\n",
      "BIKE      209\n",
      "OTH NC    207\n",
      "MED B     204\n",
      "DEER      204\n",
      "Name: ACCDTYPE, dtype: int64\n"
     ]
    }
   ],
   "source": [
    "# number of kinds of accidents\n",
    "#acc_type = dfs.groupby([\"ACCDTYPE\"]).ACCDTYPE.value_counts().nlargest(5)\n",
    "#ACCD_TYPE = dfs[\"ACCDTYPE\"].dropna().value_counts().sort_index().rename_axis('ACCDTYPE').reset_index(name='count')\n",
    "ACCD_TYPE = dfs[\"ACCDTYPE\"].dropna().value_counts().head(10)\n",
    "print(ACCD_TYPE)\n",
    "\n",
    "#plt.hist(ACCD_TYPE,edgecolor = \"black\")\n",
    "#plt.xticks(np.arange(10),label = dfs[\"ACCDTYPE\"].dropna().head(10),rotation = 90)"
   ]
  },
  {
   "cell_type": "code",
   "execution_count": null,
   "metadata": {},
   "outputs": [],
   "source": []
  }
 ],
 "metadata": {
  "kernelspec": {
   "display_name": "Python 3",
   "language": "python",
   "name": "python3"
  },
  "language_info": {
   "codemirror_mode": {
    "name": "ipython",
    "version": 3
   },
   "file_extension": ".py",
   "mimetype": "text/x-python",
   "name": "python",
   "nbconvert_exporter": "python",
   "pygments_lexer": "ipython3",
   "version": "3.7.3"
  }
 },
 "nbformat": 4,
 "nbformat_minor": 2
}
