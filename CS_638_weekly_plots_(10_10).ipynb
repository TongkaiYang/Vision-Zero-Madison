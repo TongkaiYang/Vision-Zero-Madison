{
  "nbformat": 4,
  "nbformat_minor": 0,
  "metadata": {
    "colab": {
      "name": "CS 638 - weekly plots (10/10).ipynb",
      "provenance": [],
      "include_colab_link": true
    },
    "kernelspec": {
      "name": "python3",
      "display_name": "Python 3"
    }
  },
  "cells": [
    {
      "cell_type": "markdown",
      "metadata": {
        "id": "view-in-github",
        "colab_type": "text"
      },
      "source": [
        "<a href=\"https://colab.research.google.com/github/TongkaiYang/Vision-Zero-Madison/blob/turrkey/CS_638_weekly_plots_(10_10).ipynb\" target=\"_parent\"><img src=\"https://colab.research.google.com/assets/colab-badge.svg\" alt=\"Open In Colab\"/></a>"
      ]
    },
    {
      "cell_type": "code",
      "metadata": {
        "id": "gzdF7Ps3TZcV",
        "colab_type": "code",
        "colab": {}
      },
      "source": [
        "import pandas as pd\n",
        "import numpy as np\n",
        "import seaborn as sns\n",
        "import matplotlib.pyplot as plt\n",
        "import plotly\n",
        "import plotly.graph_objects as go\n",
        "import plotly.express as px\n",
        "from plotly.subplots import make_subplots\n",
        "import datetime as dt\n",
        "sns.set(style=\"white\")"
      ],
      "execution_count": 0,
      "outputs": []
    },
    {
      "cell_type": "code",
      "metadata": {
        "id": "gHHnaNA4TybS",
        "colab_type": "code",
        "colab": {
          "base_uri": "https://localhost:8080/",
          "height": 122
        },
        "outputId": "7ba7bde7-7171-4e6d-c44e-5eba3e029c66"
      },
      "source": [
        "from google.colab import drive\n",
        "drive.mount('/content/drive')"
      ],
      "execution_count": 2,
      "outputs": [
        {
          "output_type": "stream",
          "text": [
            "Go to this URL in a browser: https://accounts.google.com/o/oauth2/auth?client_id=947318989803-6bn6qk8qdgf4n4g3pfee6491hc0brc4i.apps.googleusercontent.com&redirect_uri=urn%3Aietf%3Awg%3Aoauth%3A2.0%3Aoob&scope=email%20https%3A%2F%2Fwww.googleapis.com%2Fauth%2Fdocs.test%20https%3A%2F%2Fwww.googleapis.com%2Fauth%2Fdrive%20https%3A%2F%2Fwww.googleapis.com%2Fauth%2Fdrive.photos.readonly%20https%3A%2F%2Fwww.googleapis.com%2Fauth%2Fpeopleapi.readonly&response_type=code\n",
            "\n",
            "Enter your authorization code:\n",
            "··········\n",
            "Mounted at /content/drive\n"
          ],
          "name": "stdout"
        }
      ]
    },
    {
      "cell_type": "code",
      "metadata": {
        "id": "UYRicsW_ThOV",
        "colab_type": "code",
        "colab": {
          "base_uri": "https://localhost:8080/",
          "height": 85
        },
        "outputId": "e3d6b8cf-6cba-4b1a-9b06-a5fe9ff6fe36"
      },
      "source": [
        "raw_df = pd.read_csv('drive/My Drive/CS 638/Madison_crash_2009_2019.csv')"
      ],
      "execution_count": 3,
      "outputs": [
        {
          "output_type": "stream",
          "text": [
            "/usr/local/lib/python3.6/dist-packages/IPython/core/interactiveshell.py:2718: DtypeWarning:\n",
            "\n",
            "Columns (8,9) have mixed types. Specify dtype option on import or set low_memory=False.\n",
            "\n"
          ],
          "name": "stderr"
        }
      ]
    },
    {
      "cell_type": "code",
      "metadata": {
        "id": "IhdxoGTYUHl-",
        "colab_type": "code",
        "colab": {
          "base_uri": "https://localhost:8080/",
          "height": 610
        },
        "outputId": "5602174b-3174-4ac4-b2de-984f3ed7da2c"
      },
      "source": [
        "spd_df = raw_df[raw_df['STNM11'].str.contains('346.57').fillna(False) | raw_df['STNM12'].str.contains('346.57').fillna(False)\n",
        "                | raw_df['DRVRPC1'].str.contains('SPD') | raw_df['DRVRPC1'].str.contains('TFC') | raw_df['DRVRPC1'].str.contains('FVC')]\n",
        "def age_flag(df):\n",
        "  if int(df['AGE1']) == 0:\n",
        "    flag = None\n",
        "  if int(df['AGE1']) < 18 and int(df['AGE1']) > 0:\n",
        "    flag = '16-18'\n",
        "  if int(df['AGE1']) >= 18 and int(df['AGE1']) < 25:\n",
        "    flag = '18-25'\n",
        "  if int(df['AGE1']) >= 25 and int(df['AGE1']) < 35:\n",
        "    flag = '25-35'\n",
        "  if int(df['AGE1']) >= 35 and int(df['AGE1']) < 45:\n",
        "    flag = '35-45'\n",
        "  if int(df['AGE1']) >= 45 and int(df['AGE1']) < 55:\n",
        "    flag = '45-55'\n",
        "  if int(df['AGE1']) >= 55 and int(df['AGE1']) < 65:\n",
        "    flag = '55-65'\n",
        "  if int(df['AGE1']) >= 65:\n",
        "    flag = '>65'\n",
        "  return flag\n",
        "raw_df['AGE_FLAG'] = raw_df.dropna(subset = ['AGE1']).apply(age_flag, axis = 1)\n",
        "spd_df['AGE_FLAG'] = spd_df.apply(age_flag, axis = 1)\n",
        "AGE_SVR = spd_df.groupby(['AGE_FLAG','ACCDSVR']).count()['DOCTNMBR'].reset_index()\n",
        "AGE_SVR['DOCTNMBR2'] = raw_df.dropna(subset = ['AGE1']).groupby(['AGE_FLAG', 'ACCDSVR']).count()['DOCTNMBR'].reset_index()['DOCTNMBR']\n",
        "AGE_SVR['spd_ratio'] = round(AGE_SVR['DOCTNMBR'] / AGE_SVR['DOCTNMBR2'] * 100, 3)\n",
        "AGE_SVR = pd.pivot_table(AGE_SVR, values = 'spd_ratio', index = 'AGE_FLAG', columns = 'ACCDSVR')\n",
        "plt.figure(figsize = (10,20))\n",
        "AGE_SVR_plt = AGE_SVR.plot(kind=\"bar\", stacked=True, width = 0.2)\n",
        "AGE_SVR_leg = AGE_SVR_plt.get_legend_handles_labels()[0]\n",
        "AGE_SVR_plt.legend(AGE_SVR_leg, ['Fatal', 'Injured', 'Property Damage'], title='', frameon=False, loc='upper right')\n",
        "AGE_SVR_plt.set_xticklabels(['16-18', '18-25', '25-35', '35-45', '45-55', '55-65', '>65'], rotation = 0)\n",
        "AGE_SVR_plt.set_title('Ratio of speeding and overall accident', fontsize = 15)\n",
        "AGE_SVR_plt.set_xlabel('Age Group', fontsize = 15)\n",
        "AGE_SVR_plt.set_ylabel('Ratio (%)', fontsize = 15)\n",
        "plt.table(cellText = AGE_SVR.T.values, rowLabels=['Fatal (%)', 'Injured (%)', 'Property Damage (%)'], \n",
        "          colLabels=AGE_SVR.T.columns, rowColours = ['C0', 'C1', 'C2'],\n",
        "          loc = 'bottom', bbox=[0.0, -0.8, 1.0, 0.5]) #bbox = [left, bottom, width, height]"
      ],
      "execution_count": 6,
      "outputs": [
        {
          "output_type": "stream",
          "text": [
            "/usr/local/lib/python3.6/dist-packages/ipykernel_launcher.py:22: SettingWithCopyWarning:\n",
            "\n",
            "\n",
            "A value is trying to be set on a copy of a slice from a DataFrame.\n",
            "Try using .loc[row_indexer,col_indexer] = value instead\n",
            "\n",
            "See the caveats in the documentation: http://pandas.pydata.org/pandas-docs/stable/indexing.html#indexing-view-versus-copy\n",
            "\n"
          ],
          "name": "stderr"
        },
        {
          "output_type": "execute_result",
          "data": {
            "text/plain": [
              "<matplotlib.table.Table at 0x7f64c472fb00>"
            ]
          },
          "metadata": {
            "tags": []
          },
          "execution_count": 6
        },
        {
          "output_type": "display_data",
          "data": {
            "text/plain": [
              "<Figure size 720x1440 with 0 Axes>"
            ]
          },
          "metadata": {
            "tags": []
          }
        },
        {
          "output_type": "display_data",
          "data": {
            "image/png": "[encoded data removed]",
            "text/plain": [
              "<Figure size 432x288 with 1 Axes>"
            ]
          },
          "metadata": {
            "tags": []
          }
        }
      ]
    },
    {
      "cell_type": "code",
      "metadata": {
        "id": "R0Kvv2VegYaD",
        "colab_type": "code",
        "colab": {
          "base_uri": "https://localhost:8080/",
          "height": 297
        },
        "outputId": "6bae6d49-a470-4c18-8e49-a705e24714f4"
      },
      "source": [
        "ALC_df = raw_df[raw_df.ALCFLAG == 'Y'].copy()\n",
        "ALC_df['AGE_FLAG'] = ALC_df.dropna(subset = ['AGE1']).apply(age_flag, axis = 1)\n",
        "ALC_SVR = ALC_df.groupby(['AGE_FLAG','ACCDSVR']).count()['DOCTNMBR'].reset_index()\n",
        "ALC_SVR['DOCTNMBR2'] = raw_df.dropna(subset = ['AGE1']).groupby(['AGE_FLAG', 'ACCDSVR']).count()['DOCTNMBR'].reset_index()['DOCTNMBR']\n",
        "ALC_SVR['alc_ratio'] = round(ALC_SVR['DOCTNMBR'] / ALC_SVR['DOCTNMBR2'] * 100, 3)\n",
        "ALC_SVR = pd.pivot_table(ALC_SVR, values = 'alc_ratio', index = 'AGE_FLAG', columns = 'ACCDSVR')\n",
        "ALC_SVR"
      ],
      "execution_count": 7,
      "outputs": [
        {
          "output_type": "execute_result",
          "data": {
            "text/html": [
              "<div>\n",
              "<style scoped>\n",
              "    .dataframe tbody tr th:only-of-type {\n",
              "        vertical-align: middle;\n",
              "    }\n",
              "\n",
              "    .dataframe tbody tr th {\n",
              "        vertical-align: top;\n",
              "    }\n",
              "\n",
              "    .dataframe thead th {\n",
              "        text-align: right;\n",
              "    }\n",
              "</style>\n",
              "<table border=\"1\" class=\"dataframe\">\n",
              "  <thead>\n",
              "    <tr style=\"text-align: right;\">\n",
              "      <th>ACCDSVR</th>\n",
              "      <th>FAT</th>\n",
              "      <th>INJ</th>\n",
              "      <th>PD</th>\n",
              "    </tr>\n",
              "    <tr>\n",
              "      <th>AGE_FLAG</th>\n",
              "      <th></th>\n",
              "      <th></th>\n",
              "      <th></th>\n",
              "    </tr>\n",
              "  </thead>\n",
              "  <tbody>\n",
              "    <tr>\n",
              "      <th>16-18</th>\n",
              "      <td>50.000</td>\n",
              "      <td>1.698</td>\n",
              "      <td>1.038</td>\n",
              "    </tr>\n",
              "    <tr>\n",
              "      <th>18-25</th>\n",
              "      <td>47.619</td>\n",
              "      <td>5.787</td>\n",
              "      <td>4.585</td>\n",
              "    </tr>\n",
              "    <tr>\n",
              "      <th>25-35</th>\n",
              "      <td>43.478</td>\n",
              "      <td>7.579</td>\n",
              "      <td>4.883</td>\n",
              "    </tr>\n",
              "    <tr>\n",
              "      <th>35-45</th>\n",
              "      <td>33.333</td>\n",
              "      <td>5.573</td>\n",
              "      <td>3.725</td>\n",
              "    </tr>\n",
              "    <tr>\n",
              "      <th>45-55</th>\n",
              "      <td>63.636</td>\n",
              "      <td>5.714</td>\n",
              "      <td>3.101</td>\n",
              "    </tr>\n",
              "    <tr>\n",
              "      <th>55-65</th>\n",
              "      <td>54.545</td>\n",
              "      <td>3.197</td>\n",
              "      <td>2.320</td>\n",
              "    </tr>\n",
              "    <tr>\n",
              "      <th>&gt;65</th>\n",
              "      <td>9.091</td>\n",
              "      <td>2.363</td>\n",
              "      <td>1.386</td>\n",
              "    </tr>\n",
              "  </tbody>\n",
              "</table>\n",
              "</div>"
            ],
            "text/plain": [
              "ACCDSVR      FAT    INJ     PD\n",
              "AGE_FLAG                      \n",
              "16-18     50.000  1.698  1.038\n",
              "18-25     47.619  5.787  4.585\n",
              "25-35     43.478  7.579  4.883\n",
              "35-45     33.333  5.573  3.725\n",
              "45-55     63.636  5.714  3.101\n",
              "55-65     54.545  3.197  2.320\n",
              ">65        9.091  2.363  1.386"
            ]
          },
          "metadata": {
            "tags": []
          },
          "execution_count": 7
        }
      ]
    }
  ]
}